{
 "cells": [
  {
   "cell_type": "code",
   "execution_count": 10,
   "id": "49d9eefb",
   "metadata": {},
   "outputs": [
    {
     "name": "stdout",
     "output_type": "stream",
     "text": [
      "Data length:  7\n",
      "                   Rank                   NOC  Gold  Silver  Bronze  Total\n",
      "0                     1         United States    46      37      38    121\n",
      "1                     2         Great Britain    27      23      17     67\n",
      "2                     3                 China    26      18      26     70\n",
      "3                     4                Russia    19      17      20     56\n",
      "4                     5               Germany    17      10      15     42\n",
      "..                  ...                   ...   ...     ...     ...    ...\n",
      "82                   78               Nigeria     0       0       1      1\n",
      "83                   78              Portugal     0       0       1      1\n",
      "84                   78   Trinidad and Tobago     0       0       1      1\n",
      "85                   78  United Arab Emirates     0       0       1      1\n",
      "86  Totals (86 entries)   Totals (86 entries)   306     307     359    972\n",
      "\n",
      "[87 rows x 6 columns]\n",
      "   Rank            NOC  Gold  Silver  Bronze  Total\n",
      "0     1  United States    46      37      38    121\n",
      "1     2  Great Britain    27      23      17     67\n",
      "2     3          China    26      18      26     70\n",
      "3     4         Russia    19      17      20     56\n",
      "4     5        Germany    17      10      15     42\n",
      "5     6          Japan    12       8      21     41\n",
      "6     7         France    10      18      14     42\n",
      "7     8    South Korea     9       3       9     21\n",
      "8     9          Italy     8      12       8     28\n",
      "9    10      Australia     8      11      10     29\n",
      "10   11    Netherlands     8       7       4     19\n",
      "11   12        Hungary     8       3       4     15\n",
      "12   13        Brazil*     7       6       6     19\n",
      "13   14          Spain     7       4       6     17\n",
      "14   15          Kenya     6       6       1     13\n",
      "15   16        Jamaica     6       3       2     11\n",
      "16   17        Croatia     5       3       2     10\n",
      "17   18           Cuba     5       2       4     11\n",
      "18   19    New Zealand     4       9       5     18\n",
      "19   20         Canada     4       3      15     22\n"
     ]
    }
   ],
   "source": [
    "import pandas as pd\n",
    "olympic16Data = pd.read_html(\"https://en.wikipedia.org/wiki/2016_Summer_Olympics_medal_table\")\n",
    "print(\"Data length: \", len(olympic16Data))\n",
    "medalTable = olympic16Data[2]\n",
    "print(medalTable)\n",
    "top20 = medalTable.iloc[0:20,]\n",
    "print(top20)"
   ]
  },
  {
   "cell_type": "code",
   "execution_count": null,
   "id": "d28e2885",
   "metadata": {},
   "outputs": [],
   "source": []
  }
 ],
 "metadata": {
  "kernelspec": {
   "display_name": "Python 3 (ipykernel)",
   "language": "python",
   "name": "python3"
  },
  "language_info": {
   "codemirror_mode": {
    "name": "ipython",
    "version": 3
   },
   "file_extension": ".py",
   "mimetype": "text/x-python",
   "name": "python",
   "nbconvert_exporter": "python",
   "pygments_lexer": "ipython3",
   "version": "3.9.7"
  }
 },
 "nbformat": 4,
 "nbformat_minor": 5
}
